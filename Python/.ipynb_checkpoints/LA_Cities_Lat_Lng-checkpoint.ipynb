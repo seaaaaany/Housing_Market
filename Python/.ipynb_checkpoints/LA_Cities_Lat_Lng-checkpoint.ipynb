{
 "cells": [
  {
   "cell_type": "code",
   "execution_count": 11,
   "metadata": {},
   "outputs": [],
   "source": [
    "# Dependencies\n",
    "import requests\n",
    "import json\n",
    "import pandas as pd"
   ]
  },
  {
   "cell_type": "code",
   "execution_count": 12,
   "metadata": {},
   "outputs": [],
   "source": [
    "# Google develop API key\n",
    "from config import gkey1"
   ]
  },
  {
   "cell_type": "code",
   "execution_count": 13,
   "metadata": {},
   "outputs": [],
   "source": [
    "# Target city. Getting coordinates from Google GenCoding API\n",
    "city_address = pd.read_csv('../Raw_Data/1-1.city_codes.csv', sep=',')"
   ]
  },
  {
   "cell_type": "code",
   "execution_count": 14,
   "metadata": {},
   "outputs": [],
   "source": [
    "# Grab LA county Data\n",
    "LA_cities = city_address[city_address['Metro'] == 'Los Angeles']"
   ]
  },
  {
   "cell_type": "code",
   "execution_count": 15,
   "metadata": {},
   "outputs": [
    {
     "data": {
      "text/html": [
       "<div>\n",
       "<style scoped>\n",
       "    .dataframe tbody tr th:only-of-type {\n",
       "        vertical-align: middle;\n",
       "    }\n",
       "\n",
       "    .dataframe tbody tr th {\n",
       "        vertical-align: top;\n",
       "    }\n",
       "\n",
       "    .dataframe thead th {\n",
       "        text-align: right;\n",
       "    }\n",
       "</style>\n",
       "<table border=\"1\" class=\"dataframe\">\n",
       "  <thead>\n",
       "    <tr style=\"text-align: right;\">\n",
       "      <th></th>\n",
       "      <th>Region</th>\n",
       "      <th>State</th>\n",
       "      <th>Metro</th>\n",
       "      <th>County</th>\n",
       "      <th>Code</th>\n",
       "    </tr>\n",
       "  </thead>\n",
       "  <tbody>\n",
       "    <tr>\n",
       "      <th>1</th>\n",
       "      <td>Los Angeles</td>\n",
       "      <td>CA</td>\n",
       "      <td>Los Angeles</td>\n",
       "      <td>Los Angeles</td>\n",
       "      <td>2</td>\n",
       "    </tr>\n",
       "    <tr>\n",
       "      <th>27</th>\n",
       "      <td>Long Beach</td>\n",
       "      <td>CA</td>\n",
       "      <td>Los Angeles</td>\n",
       "      <td>Los Angeles</td>\n",
       "      <td>28</td>\n",
       "    </tr>\n",
       "    <tr>\n",
       "      <th>41</th>\n",
       "      <td>Anaheim</td>\n",
       "      <td>CA</td>\n",
       "      <td>Los Angeles</td>\n",
       "      <td>Orange</td>\n",
       "      <td>42</td>\n",
       "    </tr>\n",
       "    <tr>\n",
       "      <th>43</th>\n",
       "      <td>Santa Ana</td>\n",
       "      <td>CA</td>\n",
       "      <td>Los Angeles</td>\n",
       "      <td>Orange</td>\n",
       "      <td>44</td>\n",
       "    </tr>\n",
       "    <tr>\n",
       "      <th>97</th>\n",
       "      <td>Irvine</td>\n",
       "      <td>CA</td>\n",
       "      <td>Los Angeles</td>\n",
       "      <td>Orange</td>\n",
       "      <td>98</td>\n",
       "    </tr>\n",
       "  </tbody>\n",
       "</table>\n",
       "</div>"
      ],
      "text/plain": [
       "         Region State        Metro       County  Code\n",
       "1   Los Angeles    CA  Los Angeles  Los Angeles     2\n",
       "27   Long Beach    CA  Los Angeles  Los Angeles    28\n",
       "41      Anaheim    CA  Los Angeles       Orange    42\n",
       "43    Santa Ana    CA  Los Angeles       Orange    44\n",
       "97       Irvine    CA  Los Angeles       Orange    98"
      ]
     },
     "execution_count": 15,
     "metadata": {},
     "output_type": "execute_result"
    }
   ],
   "source": [
    "# Lsit of 20 top cities by population in LA county\n",
    "list_city = ['Los Angeles',\n",
    "             'Long Beach',\n",
    "             'Santa Clarita',\n",
    "             'Glendale',\n",
    "             'Palmdale',\n",
    "             'Lancaster',\n",
    "             'Pomona',\n",
    "             'Torrance',\n",
    "             'Pasadena',\n",
    "             'Inglewood',\n",
    "             'El Monte',\n",
    "             'Downey',\n",
    "             'West Covina',\n",
    "             'Norwalk',\n",
    "             'Burbank',\n",
    "             'Compton',\n",
    "             'South Gate',\n",
    "             'Whittier',\n",
    "             'Hawthrone',\n",
    "             'Alhambra']\n",
    "LA_cities.head()"
   ]
  },
  {
   "cell_type": "code",
   "execution_count": 16,
   "metadata": {},
   "outputs": [
    {
     "data": {
      "text/html": [
       "<div>\n",
       "<style scoped>\n",
       "    .dataframe tbody tr th:only-of-type {\n",
       "        vertical-align: middle;\n",
       "    }\n",
       "\n",
       "    .dataframe tbody tr th {\n",
       "        vertical-align: top;\n",
       "    }\n",
       "\n",
       "    .dataframe thead th {\n",
       "        text-align: right;\n",
       "    }\n",
       "</style>\n",
       "<table border=\"1\" class=\"dataframe\">\n",
       "  <thead>\n",
       "    <tr style=\"text-align: right;\">\n",
       "      <th></th>\n",
       "      <th>Region</th>\n",
       "      <th>State</th>\n",
       "    </tr>\n",
       "  </thead>\n",
       "  <tbody>\n",
       "    <tr>\n",
       "      <th>0</th>\n",
       "      <td>Los Angeles</td>\n",
       "      <td>CA</td>\n",
       "    </tr>\n",
       "    <tr>\n",
       "      <th>1</th>\n",
       "      <td>Long Beach</td>\n",
       "      <td>CA</td>\n",
       "    </tr>\n",
       "    <tr>\n",
       "      <th>2</th>\n",
       "      <td>Glendale</td>\n",
       "      <td>CA</td>\n",
       "    </tr>\n",
       "    <tr>\n",
       "      <th>3</th>\n",
       "      <td>Lancaster</td>\n",
       "      <td>CA</td>\n",
       "    </tr>\n",
       "    <tr>\n",
       "      <th>4</th>\n",
       "      <td>Palmdale</td>\n",
       "      <td>CA</td>\n",
       "    </tr>\n",
       "    <tr>\n",
       "      <th>5</th>\n",
       "      <td>Santa Clarita</td>\n",
       "      <td>CA</td>\n",
       "    </tr>\n",
       "    <tr>\n",
       "      <th>6</th>\n",
       "      <td>Pomona</td>\n",
       "      <td>CA</td>\n",
       "    </tr>\n",
       "    <tr>\n",
       "      <th>7</th>\n",
       "      <td>Torrance</td>\n",
       "      <td>CA</td>\n",
       "    </tr>\n",
       "    <tr>\n",
       "      <th>8</th>\n",
       "      <td>Pasadena</td>\n",
       "      <td>CA</td>\n",
       "    </tr>\n",
       "    <tr>\n",
       "      <th>9</th>\n",
       "      <td>Inglewood</td>\n",
       "      <td>CA</td>\n",
       "    </tr>\n",
       "    <tr>\n",
       "      <th>10</th>\n",
       "      <td>Compton</td>\n",
       "      <td>CA</td>\n",
       "    </tr>\n",
       "    <tr>\n",
       "      <th>11</th>\n",
       "      <td>Downey</td>\n",
       "      <td>CA</td>\n",
       "    </tr>\n",
       "    <tr>\n",
       "      <th>12</th>\n",
       "      <td>West Covina</td>\n",
       "      <td>CA</td>\n",
       "    </tr>\n",
       "    <tr>\n",
       "      <th>13</th>\n",
       "      <td>Norwalk</td>\n",
       "      <td>CA</td>\n",
       "    </tr>\n",
       "    <tr>\n",
       "      <th>14</th>\n",
       "      <td>Burbank</td>\n",
       "      <td>CA</td>\n",
       "    </tr>\n",
       "    <tr>\n",
       "      <th>15</th>\n",
       "      <td>South Gate</td>\n",
       "      <td>CA</td>\n",
       "    </tr>\n",
       "    <tr>\n",
       "      <th>16</th>\n",
       "      <td>El Monte</td>\n",
       "      <td>CA</td>\n",
       "    </tr>\n",
       "    <tr>\n",
       "      <th>17</th>\n",
       "      <td>Whittier</td>\n",
       "      <td>CA</td>\n",
       "    </tr>\n",
       "    <tr>\n",
       "      <th>18</th>\n",
       "      <td>Alhambra</td>\n",
       "      <td>CA</td>\n",
       "    </tr>\n",
       "  </tbody>\n",
       "</table>\n",
       "</div>"
      ],
      "text/plain": [
       "           Region State\n",
       "0     Los Angeles    CA\n",
       "1      Long Beach    CA\n",
       "2        Glendale    CA\n",
       "3       Lancaster    CA\n",
       "4        Palmdale    CA\n",
       "5   Santa Clarita    CA\n",
       "6          Pomona    CA\n",
       "7        Torrance    CA\n",
       "8        Pasadena    CA\n",
       "9       Inglewood    CA\n",
       "10        Compton    CA\n",
       "11         Downey    CA\n",
       "12    West Covina    CA\n",
       "13        Norwalk    CA\n",
       "14        Burbank    CA\n",
       "15     South Gate    CA\n",
       "16       El Monte    CA\n",
       "17       Whittier    CA\n",
       "18       Alhambra    CA"
      ]
     },
     "execution_count": 16,
     "metadata": {},
     "output_type": "execute_result"
    }
   ],
   "source": [
    "# Pull City and state\n",
    "final = []\n",
    "for i in range(len(LA_cities)):\n",
    "    target = LA_cities.iloc[i, :]\n",
    "    table_final = {}\n",
    "    table_final['Region'] = target['Region']\n",
    "    table_final['State'] = target['State']\n",
    "    if table_final['Region'] in list_city:\n",
    "        final.append(table_final)\n",
    "final = pd.DataFrame(final)\n",
    "final"
   ]
  },
  {
   "cell_type": "code",
   "execution_count": 17,
   "metadata": {},
   "outputs": [
    {
     "data": {
      "text/plain": [
       "0       Los Angeles\n",
       "1        Long Beach\n",
       "2          Glendale\n",
       "3         Lancaster\n",
       "4          Palmdale\n",
       "5     Santa Clarita\n",
       "6            Pomona\n",
       "7          Torrance\n",
       "8          Pasadena\n",
       "9         Inglewood\n",
       "10          Compton\n",
       "11           Downey\n",
       "12      West Covina\n",
       "13          Norwalk\n",
       "14          Burbank\n",
       "15       South Gate\n",
       "16         El Monte\n",
       "17         Whittier\n",
       "18         Alhambra\n",
       "Name: Region, dtype: object"
      ]
     },
     "execution_count": 17,
     "metadata": {},
     "output_type": "execute_result"
    }
   ],
   "source": [
    "list_Region = final['Region']\n",
    "list_Region"
   ]
  },
  {
   "cell_type": "code",
   "execution_count": 18,
   "metadata": {},
   "outputs": [],
   "source": [
    "# Grab Lat and Lng from google\n",
    "# Run a request to endpoint and convert result to json\n",
    "target = []\n",
    "for i in range(len(list_Region)):\n",
    "\n",
    "    target_city = list_Region[i]\n",
    "    target_url = \"https://maps.googleapis.com/maps/api/geocode/json?\" \\\n",
    "        \"address=%s&key=%s\" % (target_city, gkey1)\n",
    "    geo_data = requests.get(target_url).json()"
   ]
  },
  {
   "cell_type": "code",
   "execution_count": 19,
   "metadata": {},
   "outputs": [
    {
     "name": "stdout",
     "output_type": "stream",
     "text": [
      "{'address_components': [{'long_name': 's/n', 'short_name': 's/n', 'types': ['street_number']}, {'long_name': 'Calle Real de la Alhambra', 'short_name': 'Calle Real de la Alhambra', 'types': ['route']}, {'long_name': 'Granada', 'short_name': 'Granada', 'types': ['locality', 'political']}, {'long_name': 'Granada', 'short_name': 'Granada', 'types': ['administrative_area_level_2', 'political']}, {'long_name': 'Andalucía', 'short_name': 'AL', 'types': ['administrative_area_level_1', 'political']}, {'long_name': 'Spain', 'short_name': 'ES', 'types': ['country', 'political']}, {'long_name': '18009', 'short_name': '18009', 'types': ['postal_code']}], 'formatted_address': 'Calle Real de la Alhambra, s/n, 18009 Granada, Spain', 'geometry': {'location': {'lat': 37.1760783, 'lng': -3.5881413}, 'location_type': 'ROOFTOP', 'viewport': {'northeast': {'lat': 37.1774272802915, 'lng': -3.586792319708497}, 'southwest': {'lat': 37.1747293197085, 'lng': -3.589490280291502}}}, 'place_id': 'ChIJO7l_l7f8cQ0Rf6IhEu_RjYA', 'plus_code': {'compound_code': '5CG6+CP Granada, Spain', 'global_code': '8C9R5CG6+CP'}, 'types': ['establishment', 'museum', 'point_of_interest', 'premise']}\n"
     ]
    }
   ],
   "source": [
    "R1 = geo_data[\"results\"][0]\n",
    "print(R1)"
   ]
  },
  {
   "cell_type": "code",
   "execution_count": 20,
   "metadata": {},
   "outputs": [
    {
     "name": "stdout",
     "output_type": "stream",
     "text": [
      "37.1760783\n"
     ]
    },
    {
     "ename": "KeyError",
     "evalue": "'bounds'",
     "output_type": "error",
     "traceback": [
      "\u001b[0;31m---------------------------------------------------------------------------\u001b[0m",
      "\u001b[0;31mKeyError\u001b[0m                                  Traceback (most recent call last)",
      "\u001b[0;32m<ipython-input-20-d40b33965fb5>\u001b[0m in \u001b[0;36m<module>\u001b[0;34m\u001b[0m\n\u001b[1;32m      6\u001b[0m             \u001b[0mciti\u001b[0m\u001b[0;34m[\u001b[0m\u001b[0;34m'lat'\u001b[0m\u001b[0;34m]\u001b[0m \u001b[0;34m=\u001b[0m \u001b[0mR2\u001b[0m\u001b[0;34m[\u001b[0m\u001b[0;34m\"location\"\u001b[0m\u001b[0;34m]\u001b[0m\u001b[0;34m[\u001b[0m\u001b[0;34m\"lat\"\u001b[0m\u001b[0;34m]\u001b[0m\u001b[0;34m\u001b[0m\u001b[0m\n\u001b[1;32m      7\u001b[0m             \u001b[0mciti\u001b[0m\u001b[0;34m[\u001b[0m\u001b[0;34m'lng'\u001b[0m\u001b[0;34m]\u001b[0m \u001b[0;34m=\u001b[0m \u001b[0mR2\u001b[0m\u001b[0;34m[\u001b[0m\u001b[0;34m\"location\"\u001b[0m\u001b[0;34m]\u001b[0m\u001b[0;34m[\u001b[0m\u001b[0;34m\"lng\"\u001b[0m\u001b[0;34m]\u001b[0m\u001b[0;34m\u001b[0m\u001b[0m\n\u001b[0;32m----> 8\u001b[0;31m             \u001b[0mciti\u001b[0m\u001b[0;34m[\u001b[0m\u001b[0;34m'northeast_Lat'\u001b[0m\u001b[0;34m]\u001b[0m \u001b[0;34m=\u001b[0m \u001b[0mR2\u001b[0m\u001b[0;34m[\u001b[0m\u001b[0;34m\"bounds\"\u001b[0m\u001b[0;34m]\u001b[0m\u001b[0;34m[\u001b[0m\u001b[0;34m\"northeast\"\u001b[0m\u001b[0;34m]\u001b[0m\u001b[0;34m[\u001b[0m\u001b[0;34m\"lat\"\u001b[0m\u001b[0;34m]\u001b[0m\u001b[0;34m\u001b[0m\u001b[0m\n\u001b[0m\u001b[1;32m      9\u001b[0m             \u001b[0mciti\u001b[0m\u001b[0;34m[\u001b[0m\u001b[0;34m'northeast_Lng'\u001b[0m\u001b[0;34m]\u001b[0m \u001b[0;34m=\u001b[0m \u001b[0mR2\u001b[0m\u001b[0;34m[\u001b[0m\u001b[0;34m\"bounds\"\u001b[0m\u001b[0;34m]\u001b[0m\u001b[0;34m[\u001b[0m\u001b[0;34m\"northeast\"\u001b[0m\u001b[0;34m]\u001b[0m\u001b[0;34m[\u001b[0m\u001b[0;34m\"lng\"\u001b[0m\u001b[0;34m]\u001b[0m\u001b[0;34m\u001b[0m\u001b[0m\n\u001b[1;32m     10\u001b[0m             \u001b[0mciti\u001b[0m\u001b[0;34m[\u001b[0m\u001b[0;34m'southwest_Lat'\u001b[0m\u001b[0;34m]\u001b[0m \u001b[0;34m=\u001b[0m \u001b[0mR2\u001b[0m\u001b[0;34m[\u001b[0m\u001b[0;34m\"bounds\"\u001b[0m\u001b[0;34m]\u001b[0m\u001b[0;34m[\u001b[0m\u001b[0;34m\"southwest\"\u001b[0m\u001b[0;34m]\u001b[0m\u001b[0;34m[\u001b[0m\u001b[0;34m\"lat\"\u001b[0m\u001b[0;34m]\u001b[0m\u001b[0;34m\u001b[0m\u001b[0m\n",
      "\u001b[0;31mKeyError\u001b[0m: 'bounds'"
     ]
    }
   ],
   "source": [
    "# Run a request to endpoint and convert result to json\n",
    "target=[]\n",
    "for i in range(len(list_Region)):\n",
    "    \n",
    "    target_city=list_Region[i]\n",
    "    target_url = \"https://maps.googleapis.com/maps/api/geocode/json?\" \\\n",
    "     \"address=%s&key=%s\" % (target_city, gkey1)\n",
    "    geo_data = requests.get(target_url).json()\n",
    "    #print(geo_data)\n",
    "    R1=geo_data[\"results\"][0]\n",
    "    #print(R1)\n",
    "    for a in range(len(R1)):\n",
    "        R2=R1[\"geometry\"]\n",
    "        print(R2['location']['lat'])\n",
    "        for j in R2:\n",
    "            citi={}\n",
    "            citi['lat']=R2[\"location\"][\"lat\"]\n",
    "            citi['lng']=R2[\"location\"][\"lng\"]\n",
    "            citi['northeast_Lat']=R2[\"bounds\"][\"northeast\"][\"lat\"]\n",
    "            citi['northeast_Lng']=R2[\"bounds\"][\"northeast\"][\"lng\"]\n",
    "            citi['southwest_Lat']=R2[\"bounds\"][\"southwest\"][\"lat\"]\n",
    "            citi['southwest_Lng']=R2[\"bounds\"][\"southwest\"][\"lng\"]\n",
    "            citi['address']=target_city\n",
    "    target.append(citi)"
   ]
  },
  {
   "cell_type": "code",
   "execution_count": 21,
   "metadata": {},
   "outputs": [
    {
     "data": {
      "text/html": [
       "<div>\n",
       "<style scoped>\n",
       "    .dataframe tbody tr th:only-of-type {\n",
       "        vertical-align: middle;\n",
       "    }\n",
       "\n",
       "    .dataframe tbody tr th {\n",
       "        vertical-align: top;\n",
       "    }\n",
       "\n",
       "    .dataframe thead th {\n",
       "        text-align: right;\n",
       "    }\n",
       "</style>\n",
       "<table border=\"1\" class=\"dataframe\">\n",
       "  <thead>\n",
       "    <tr style=\"text-align: right;\">\n",
       "      <th></th>\n",
       "    </tr>\n",
       "  </thead>\n",
       "  <tbody>\n",
       "  </tbody>\n",
       "</table>\n",
       "</div>"
      ],
      "text/plain": [
       "Empty DataFrame\n",
       "Columns: []\n",
       "Index: []"
      ]
     },
     "execution_count": 21,
     "metadata": {},
     "output_type": "execute_result"
    }
   ],
   "source": [
    "# create dataframe to store all lat and lng data\n",
    "address_coordinate = pd.DataFrame(target)\n",
    "address_coordinate"
   ]
  },
  {
   "cell_type": "code",
   "execution_count": 22,
   "metadata": {},
   "outputs": [],
   "source": [
    "# save address_coordinate for later use\n",
    "address_coordinate.to_csv('../Raw_Data/1-1.LA_cities_Lat_lng_codes_data.csv', sep=',', index=None)"
   ]
  },
  {
   "cell_type": "code",
   "execution_count": null,
   "metadata": {},
   "outputs": [],
   "source": []
  }
 ],
 "metadata": {
  "kernelspec": {
   "display_name": "Python 3",
   "language": "python",
   "name": "python3"
  },
  "language_info": {
   "codemirror_mode": {
    "name": "ipython",
    "version": 3
   },
   "file_extension": ".py",
   "mimetype": "text/x-python",
   "name": "python",
   "nbconvert_exporter": "python",
   "pygments_lexer": "ipython3",
   "version": "3.6.6"
  }
 },
 "nbformat": 4,
 "nbformat_minor": 2
}
